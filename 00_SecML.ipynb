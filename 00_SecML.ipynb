{
  "cells": [
    {
      "cell_type": "markdown",
      "metadata": {
        "collapsed": false,
        "id": "vrO6My89CFZW",
        "pycharm": {
          "name": "#%% md\n"
        }
      },
      "source": [
        "# Introduction to the SecML library\n",
        "\n",
        "In this tutorial, you will learn the basic components of the [SecML library](https://github.com/pralab/secml).\n",
        "At the end of the exercise, you will be familiar with the core data structure of the library, the [CArray](https://secml.readthedocs.io/en/v0.15/secml.array.html), and how to import pre-trained machine learning models trained with [scikit-learn](https://scikit-learn.org/stable/index.html) and [PyTorch](https://pytorch.org) (with a brief tutorial on it)."
      ]
    },
    {
      "cell_type": "markdown",
      "metadata": {
        "collapsed": false,
        "id": "eDaGMIJ9CFZZ",
        "pycharm": {
          "name": "#%% md\n"
        }
      },
      "source": [
        "[![Open In Colab](https://colab.research.google.com/assets/colab-badge.svg)](\n",
        "https://colab.research.google.com/github/zangobot/teaching_material/blob/main/00-SecML.ipynb)"
      ]
    },
    {
      "cell_type": "markdown",
      "metadata": {
        "collapsed": false,
        "id": "GVYRkjpzCFZZ",
        "pycharm": {
          "name": "#%% md\n"
        }
      },
      "source": [
        "# Install SecML\n",
        "\n",
        "First, we have to install and import the SecML library. We can do that in Colab with the following lines:"
      ]
    },
    {
      "cell_type": "code",
      "execution_count": 1,
      "metadata": {
        "id": "R3r7NvJKCFZa",
        "pycharm": {
          "name": "#%%\n"
        }
      },
      "outputs": [],
      "source": [
        "try:\n",
        "  import secml\n",
        "except ImportError:\n",
        "  %pip install git+https://github.com/pralab/secml"
      ]
    },
    {
      "cell_type": "markdown",
      "metadata": {
        "collapsed": false,
        "id": "3J6pGZFzCFZa",
        "pycharm": {
          "name": "#%% md\n"
        }
      },
      "source": [
        "(OPTIONAL) If you want to use SecML **locally**, you can install it in your environment.\n",
        "\n",
        "Before installing SecML, we strongly suggest to create an environment where to download all the dependancies of the library through Anaconda Python. Follow the linked page to install Miniconda (a minimal version of Conda). After the installation, you can create a conda environment from your command line:\n",
        "\n",
        "```\n",
        "conda create -n secml python=3.8\n",
        "```\n",
        "\n",
        "Once the environment has been installed, you can activate it and install SecML:\n",
        "\n",
        "```\n",
        "conda activate secml\n",
        "python -m pip install \"secml[pytorch,foolbox]\"\n",
        "python -m install notebook\n",
        "```\n",
        "\n",
        "Once the procedure is complete, you can verify that SecML is correctly installed inside your environment. Open a Python interpreter and type:\n",
        "\n",
        "```\n",
        "import secml\n",
        "print(secml.__version__)\n",
        "```\n",
        "\n",
        "Restart the notebook inside the conda environment to continue the exercise. Execute the following code to ensure you can access SecML inside the notebook."
      ]
    },
    {
      "cell_type": "markdown",
      "metadata": {
        "collapsed": false,
        "id": "mu9_5J7yCFZa",
        "pycharm": {
          "name": "#%% md\n"
        }
      },
      "source": [
        "# Part 1 - CArray: the basic data structure\n",
        "\n",
        "The CArray is the base class that is used inside SecML to create vectors and matrices.\n",
        "If you are already familiar with NumPy, you will recognize many functions and helpers along the tutorial."
      ]
    },
    {
      "cell_type": "code",
      "execution_count": 2,
      "metadata": {
        "id": "8gW41sdzCFZb",
        "pycharm": {
          "name": "#%%\n"
        }
      },
      "outputs": [
        {
          "name": "stdout",
          "output_type": "stream",
          "text": [
            "CArray([0 1 2 3])\n",
            "Shape of single-row vector:  (4,)\n",
            "CArray([[0 1 2 3]\n",
            " [4 5 6 7]])\n",
            "Shape of 2D vector: (2, 4)\n"
          ]
        }
      ],
      "source": [
        "from secml.array import CArray\n",
        "\n",
        "x = CArray([0,1,2,3])\n",
        "print(x)\n",
        "print('Shape of single-row vector: ', x.shape)\n",
        "x = CArray([[0,1,2,3], [4,5,6,7]])\n",
        "print(x)\n",
        "print('Shape of 2D vector:', x.shape)"
      ]
    },
    {
      "cell_type": "markdown",
      "metadata": {
        "collapsed": false,
        "id": "XrHEjtr3CFZb",
        "pycharm": {
          "name": "#%% md\n"
        }
      },
      "source": [
        "You can perform basic mathematical operations between CArrays:"
      ]
    },
    {
      "cell_type": "code",
      "execution_count": 3,
      "metadata": {
        "id": "7U9mKzUaCFZc",
        "pycharm": {
          "name": "#%%\n"
        }
      },
      "outputs": [
        {
          "name": "stdout",
          "output_type": "stream",
          "text": [
            "CArray([ 6  8 10 12])\n",
            "CArray([-4 -4 -4 -4])\n",
            "CArray([ 5 12 21 32])\n",
            "CArray([0.2      0.333333 0.428571 0.5     ])\n",
            "70\n",
            "CArray([[1]\n",
            " [2]\n",
            " [3]\n",
            " [4]])\n",
            "5.477225575051661\n"
          ]
        }
      ],
      "source": [
        "x1 = CArray([1,2,3,4])\n",
        "x2 = CArray([5,6,7,8])\n",
        "\n",
        "print(x1 + x2)  # element-wise sum\n",
        "print(x1 - x2)  # element-wise subtraction\n",
        "print(x1 * x2)  # element-wise multiplication\n",
        "print(x1 / x2)  # element-wise division\n",
        "print(x1.dot(x2))  # dot product\n",
        "print(x1.T)  # transpose\n",
        "print(x1.norm(order=2))  # compute norm"
      ]
    },
    {
      "cell_type": "markdown",
      "metadata": {
        "collapsed": false,
        "id": "L0oxvTNJCFZc",
        "pycharm": {
          "name": "#%% md\n"
        }
      },
      "source": [
        "You can perform operations between **2D** vectors:"
      ]
    },
    {
      "cell_type": "code",
      "execution_count": 4,
      "metadata": {
        "id": "D8ywkrWkCFZc",
        "pycharm": {
          "name": "#%%\n"
        }
      },
      "outputs": [
        {
          "name": "stdout",
          "output_type": "stream",
          "text": [
            "CArray([[ 6  8 10 12]\n",
            " [ 6  8 10 12]])\n",
            "CArray([[-4 -4 -4 -4]\n",
            " [-4 -4 -4 -4]])\n",
            "CArray([[ 5 12 21 32]\n",
            " [ 5 12 21 32]])\n",
            "CArray([[0.2      0.333333 0.428571 0.5     ]\n",
            " [0.2      0.333333 0.428571 0.5     ]])\n",
            "CArray([[10 12 14 16]\n",
            " [20 24 28 32]\n",
            " [30 36 42 48]\n",
            " [40 48 56 64]])\n",
            "CArray([[1.414214 2.828427 4.242641 5.656854]])\n",
            "CArray([[5.477226]\n",
            " [5.477226]])\n",
            "CArray([1 2 3 4 1 2 3 4]) (8,)\n"
          ]
        }
      ],
      "source": [
        "x1 = CArray([[1,2,3,4],[1,2,3,4]])\n",
        "x2 = CArray([[5,6,7,8], [5,6,7,8]])\n",
        "\n",
        "print(x1 + x2)  # element-wise sum\n",
        "print(x1 - x2)  # element-wise subtraction\n",
        "print(x1 * x2)  # element-wise multiplication\n",
        "print(x1 / x2)  # element-wise division\n",
        "print(x1.T.dot(x2))  # dot product between (4,2) and (2,4) matrices\n",
        "print(x1.norm_2d(order=2, axis=0))  # norm of each column\n",
        "print(x1.norm_2d(order=2, axis=1))  # norm of each row\n",
        "print(x1.flatten(), x1.flatten().shape)  # flatten the matrix to one single row"
      ]
    },
    {
      "cell_type": "markdown",
      "metadata": {
        "collapsed": false,
        "id": "7c14ceglCFZc",
        "pycharm": {
          "name": "#%% md\n"
        }
      },
      "source": [
        "You can import data from numpy, by passing a numpy array to the CArray constructor. **PLEASE REMARK** that the CArray class only supports **2D** data. Passing a high-dimensional data shape will result in a flattened array."
      ]
    },
    {
      "cell_type": "code",
      "execution_count": 5,
      "metadata": {
        "id": "DN_1IWJHCFZc",
        "pycharm": {
          "name": "#%%\n"
        }
      },
      "outputs": [
        {
          "name": "stdout",
          "output_type": "stream",
          "text": [
            "Numpy array: [0 1 2 3] with type <class 'numpy.ndarray'>\n",
            "CArray of numpy array: CArray([0 1 2 3]) with type <class 'secml.array.c_array.CArray'>\n",
            "Back to  <class 'numpy.ndarray'>\n",
            "NumPy shape: (10, 10, 10)\n",
            "CArray shape: (10, 100)\n"
          ]
        }
      ],
      "source": [
        "import numpy as np\n",
        "\n",
        "x = np.array([0,1,2,3])\n",
        "print('Numpy array:', x, 'with type', type(x))\n",
        "x = CArray(x)\n",
        "print('CArray of numpy array:', x, 'with type', type(x))\n",
        "x = x.tondarray()\n",
        "print('Back to ', type(x))\n",
        "\n",
        "# demonstrate flatten behavior\n",
        "x = np.random.rand(10,10,10)\n",
        "xc = CArray(x)\n",
        "print('NumPy shape:', x.shape)\n",
        "print('CArray shape:', xc.shape)"
      ]
    },
    {
      "cell_type": "markdown",
      "metadata": {
        "collapsed": false,
        "id": "zEWs8IFRCFZc",
        "pycharm": {
          "name": "#%% md\n"
        }
      },
      "source": [
        "The CArray class offers helper functions to create data from known distributions, like the [Normal Distribution](https://en.wikipedia.org/wiki/Normal_distribution):"
      ]
    },
    {
      "cell_type": "code",
      "execution_count": 6,
      "metadata": {
        "id": "dKX80vEQCFZc",
        "pycharm": {
          "name": "#%%\n"
        }
      },
      "outputs": [
        {
          "name": "stdout",
          "output_type": "stream",
          "text": [
            "CArray([[-0.696739  0.51671   0.851729]\n",
            " [ 0.619389  1.058384  0.763942]\n",
            " [ 0.603496 -0.647634  1.134759]])\n",
            "CArray([[0. 0. 0. 0. 0.]\n",
            " [0. 0. 0. 0. 0.]])\n",
            "CArray([[1. 1. 1.]\n",
            " [1. 1. 1.]\n",
            " [1. 1. 1.]])\n",
            "CArray([[1. 0. 0. 0.]\n",
            " [0. 1. 0. 0.]\n",
            " [0. 0. 1. 0.]\n",
            " [0. 0. 0. 1.]])\n"
          ]
        }
      ],
      "source": [
        "x = CArray.randn((3,3))  # normal distribution\n",
        "print(x)\n",
        "x = CArray.zeros((2,5))  # 2D vector with only zeros\n",
        "print(x)\n",
        "x = CArray.ones((3,3))  # 2D vector with only ones\n",
        "print(x)\n",
        "x = CArray.eye(4,4)\n",
        "print(x)"
      ]
    },
    {
      "cell_type": "markdown",
      "metadata": {
        "collapsed": false,
        "id": "JQGGvJq8CFZd",
        "pycharm": {
          "name": "#%% md\n"
        }
      },
      "source": [
        "# Exercise 1\n",
        "Use the code above to complete the assignment.\n",
        "* Create two CArray from the normal distribution with shape (5,6)\n",
        "* Compute the dot product of the two newly-created CArray\n",
        "* Flatten the result and compute the euclidean norm (which order?)\n",
        "* Create an identity of shape (5,5) and a 2D vectors of zeros with shape (5,5)\n",
        "* Sum and multiply the two newly-created CArray"
      ]
    },
    {
      "cell_type": "code",
      "execution_count": 14,
      "metadata": {
        "id": "ml33cWMfCFZd",
        "pycharm": {
          "name": "#%%\n"
        }
      },
      "outputs": [
        {
          "name": "stdout",
          "output_type": "stream",
          "text": [
            "Dot Product Result:\n",
            "CArray([[ 0.42707   5.268608  2.672785 -2.594279 -1.696573]\n",
            " [ 3.504783 -6.695824  2.551888 -1.524512  3.139821]\n",
            " [ 0.464664  1.598193  0.185899 -0.972791 -3.040114]\n",
            " [ 0.22989  -5.115751  0.439376  0.369863  1.041506]\n",
            " [ 0.369401 -0.586008  1.457312 -2.450156 -0.272481]])\n",
            "\n",
            "Flattened Dot Product Euclidean Norm:\n",
            "13.031428679061733\n",
            "\n",
            "Sum Result:\n",
            "CArray([[1. 0. 0. 0. 0.]\n",
            " [0. 1. 0. 0. 0.]\n",
            " [0. 0. 1. 0. 0.]\n",
            " [0. 0. 0. 1. 0.]\n",
            " [0. 0. 0. 0. 1.]])\n",
            "\n",
            "Multiply Result:\n",
            "CArray([[0. 0. 0. 0. 0.]\n",
            " [0. 0. 0. 0. 0.]\n",
            " [0. 0. 0. 0. 0.]\n",
            " [0. 0. 0. 0. 0.]\n",
            " [0. 0. 0. 0. 0.]])\n"
          ]
        }
      ],
      "source": [
        "# Create two CArrays from the normal distribution with shape (5, 6)\n",
        "carray1 = CArray(np.random.normal(size=(5, 6)))\n",
        "carray2 = CArray(np.random.normal(size=(6, 5)))\n",
        "\n",
        "# Compute the dot product of the two newly-created CArrays\n",
        "dot_product_result = carray1.dot(carray2)\n",
        "\n",
        "# Flatten the result and compute the Euclidean norm\n",
        "euclidean_norm_result = dot_product_result.flatten().norm()\n",
        "\n",
        "# Create an identity of shape (5, 5) and a 2D vector of zeros with shape (5, 5)\n",
        "identity_matrix = CArray.eye(5)\n",
        "zeros_vector = CArray.zeros((5, 5))\n",
        "\n",
        "# Sum and multiply the two newly-created CArrays\n",
        "sum_result = identity_matrix + zeros_vector\n",
        "multiply_result = identity_matrix * zeros_vector\n",
        "\n",
        "# Print the results\n",
        "print(\"Dot Product Result:\")\n",
        "print(dot_product_result)\n",
        "\n",
        "print(\"\\nFlattened Dot Product Euclidean Norm:\")\n",
        "print(euclidean_norm_result)\n",
        "\n",
        "print(\"\\nSum Result:\")\n",
        "print(sum_result)\n",
        "\n",
        "print(\"\\nMultiply Result:\")\n",
        "print(multiply_result)"
      ]
    },
    {
      "cell_type": "markdown",
      "metadata": {
        "collapsed": false,
        "id": "pHTWO0e2CFZd",
        "pycharm": {
          "name": "#%% md\n"
        }
      },
      "source": [
        "# Part 2 - Create datasets\n",
        "\n",
        "We are going to use a simple toy dataset\n",
        " consisting of 3 clusters of points, normally distributed.\n",
        "\n",
        "Each dataset of SecML is a `CDataset` object, consisting of `dataset.X` and `dataset.Y`, where the samples and the corresponding labels are stored, respectively."
      ]
    },
    {
      "cell_type": "code",
      "execution_count": 15,
      "metadata": {
        "id": "oJPEhJKkCFZd",
        "pycharm": {
          "name": "#%%\n"
        }
      },
      "outputs": [],
      "source": [
        "random_state = 999\n",
        "\n",
        "n_features = 2   # number of features\n",
        "n_samples = 1250   # number of samples\n",
        "centers = [[-2, 0], [2, -2], [2, 2]]   # centers of the clusters\n",
        "cluster_std = 0.8   # standard deviation of the clusters\n",
        "\n",
        "from secml.data.loader import CDLRandomBlobs\n",
        "dataset = CDLRandomBlobs(n_features=n_features,\n",
        "                         centers=centers,\n",
        "                         cluster_std=cluster_std,\n",
        "                         n_samples=n_samples,\n",
        "                         random_state=random_state).load()"
      ]
    },
    {
      "cell_type": "markdown",
      "metadata": {
        "collapsed": false,
        "id": "Pv-ShqQ7CFZd",
        "pycharm": {
          "name": "#%% md\n"
        }
      },
      "source": [
        "The dataset will be split in *training* and *test*, and normalized in the standard interval `[0, 1]` with a *min-max* normalizer."
      ]
    },
    {
      "cell_type": "code",
      "execution_count": 16,
      "metadata": {
        "id": "1CNNESJrCFZd",
        "pycharm": {
          "name": "#%%\n"
        }
      },
      "outputs": [],
      "source": [
        "n_tr = 1000  # number of training set samples\n",
        "n_ts = 250  # number of test set samples\n",
        "\n",
        "# split in training and test\n",
        "from secml.data.splitter import CTrainTestSplit\n",
        "splitter = CTrainTestSplit(\n",
        "    train_size=n_tr, test_size=n_ts, random_state=random_state)\n",
        "tr, ts = splitter.split(dataset)\n",
        "\n",
        "# normalize the data\n",
        "from secml.ml.features import CNormalizerMinMax\n",
        "nmz = CNormalizerMinMax()\n",
        "tr.X = nmz.fit_transform(tr.X)\n",
        "ts.X = nmz.transform(ts.X)"
      ]
    },
    {
      "cell_type": "markdown",
      "metadata": {
        "collapsed": false,
        "id": "6XlMDyS8CFZd",
        "pycharm": {
          "name": "#%% md\n"
        }
      },
      "source": [
        "Let’s visualize the dataset in a 2D plane.\n",
        "The three clusters are clearly separable and normalized as we required."
      ]
    },
    {
      "cell_type": "code",
      "execution_count": 17,
      "metadata": {
        "id": "yPzpu7ErCFZd",
        "pycharm": {
          "name": "#%%\n"
        }
      },
      "outputs": [],
      "source": [
        "from secml.figure import CFigure\n",
        "import matplotlib\n",
        "%matplotlib inline\n",
        "\n",
        "fig = CFigure(width=5, height=5)\n",
        "\n",
        "# convenience function for plotting a dataset\n",
        "fig.sp.plot_ds(tr)\n",
        "fig.show()\n",
        "fig.savefig('00_part2.png')\n",
        "\n",
        "from PIL import Image\n",
        "img = Image.open('00_part2.png')\n",
        "img.show()"
      ]
    },
    {
      "cell_type": "markdown",
      "metadata": {
        "collapsed": false,
        "id": "IVUAFxcoCFZd",
        "pycharm": {
          "name": "#%% md\n"
        }
      },
      "source": [
        "# Part 3 - Use classifiers with SecML\n",
        "\n",
        "The SecML library offers wrappers for PyTorch and scikit-learn models.\n",
        "More details on the creation and training of models inside SecML can be found on the [GitHub repository](https://github.com/pralab/secml/tree/master/tutorials). Wrapping a model is easy: the library offers classes that accepts models from the desired framework."
      ]
    },
    {
      "cell_type": "code",
      "execution_count": 19,
      "metadata": {
        "id": "kKKmzsPaCFZd",
        "pycharm": {
          "name": "#%%\n"
        }
      },
      "outputs": [],
      "source": [
        "# wrapping a scikit-learn classifier\n",
        "from sklearn.svm import SVC\n",
        "from secml.ml.classifiers import CClassifierSkLearn\n",
        "model = SVC()\n",
        "secml_model = CClassifierSkLearn(model)"
      ]
    },
    {
      "cell_type": "markdown",
      "metadata": {
        "collapsed": false,
        "id": "sDdt68A0CFZe",
        "pycharm": {
          "name": "#%% md\n"
        }
      },
      "source": [
        "Models can also be trained with SecML. We are going to use the dataset from before."
      ]
    },
    {
      "cell_type": "code",
      "execution_count": 20,
      "metadata": {
        "id": "0TBSjYu1CFZe",
        "pycharm": {
          "name": "#%%\n"
        }
      },
      "outputs": [
        {
          "data": {
            "text/plain": [
              "CClassifierSkLearn{'sklearn_model': SVC(), 'classes': CArray(3,)(dense: [0 1 2]), 'n_features': 2, 'preprocess': None, 'n_jobs': 1}"
            ]
          },
          "execution_count": 20,
          "metadata": {},
          "output_type": "execute_result"
        }
      ],
      "source": [
        "secml_model.fit(tr.X,tr.Y)"
      ]
    },
    {
      "cell_type": "markdown",
      "metadata": {
        "collapsed": false,
        "id": "sShYUbhACFZe",
        "pycharm": {
          "name": "#%% md\n"
        }
      },
      "source": [
        "## Visualization of the decision regions of the classifiers\n",
        "\n",
        "Once the classifier is trained, we can visualize the *decision regions* over the entire feature space."
      ]
    },
    {
      "cell_type": "code",
      "execution_count": 21,
      "metadata": {
        "id": "7es8PKdUCFZe",
        "pycharm": {
          "name": "#%%\n"
        }
      },
      "outputs": [],
      "source": [
        "from secml.figure import CFigure\n",
        "import matplotlib\n",
        "%matplotlib inline\n",
        "\n",
        "fig = CFigure(width=5, height=5)\n",
        "\n",
        "# convenience function for plotting the decision function of a classifier\n",
        "fig.sp.plot_decision_regions(secml_model, n_grid_points=200)\n",
        "\n",
        "fig.sp.plot_ds(ts)\n",
        "fig.sp.grid(grid_on=False)\n",
        "\n",
        "fig.sp.title(\"Classification regions\")\n",
        "fig.show()\n",
        "fig.savefig('00_part3.png')\n",
        "\n",
        "from PIL import Image\n",
        "img = Image.open('00_part3.png')\n",
        "img.show()"
      ]
    },
    {
      "cell_type": "markdown",
      "metadata": {
        "collapsed": false,
        "id": "wNQrFssqCFZe",
        "pycharm": {
          "name": "#%% md\n"
        }
      },
      "source": [
        "# Exercise 2\n",
        "\n",
        "* Compute the accuracy of the trained model on the test data, using SecML"
      ]
    },
    {
      "cell_type": "code",
      "execution_count": 23,
      "metadata": {
        "id": "uA_PaVenCFZe",
        "pycharm": {
          "name": "#%%\n"
        }
      },
      "outputs": [
        {
          "name": "stdout",
          "output_type": "stream",
          "text": [
            "Accuracy on the test set: 0.988\n"
          ]
        }
      ],
      "source": [
        "# TODO compute predictions\n",
        "\n",
        "# Hints\n",
        "# -----\n",
        "# predictions = secml_model.predict(...)\n",
        "#\n",
        "# # this class computes the accuracy of a model\n",
        "# from secml.ml.peval.metrics import CMetricAccuracy\n",
        "# metric = CMetricAccuracy()\n",
        "#\n",
        "# accuracy = metric.performance_score(y_true=..., y_pred=...)\n",
        "#\n",
        "# print(\"Accuracy on the test set\", accuracy)\n",
        "\n",
        "from secml.ml.peval.metrics import CMetricAccuracy\n",
        "\n",
        "# Compute predictions\n",
        "predictions = secml_model.predict(ts.X)\n",
        "\n",
        "# this class computes the accuracy of a model\n",
        "metric = CMetricAccuracy()\n",
        "\n",
        "# Compute accuracy\n",
        "accuracy = metric.performance_score(y_true=ts.Y, y_pred=predictions)\n",
        "\n",
        "print(\"Accuracy on the test set:\", accuracy)"
      ]
    },
    {
      "cell_type": "markdown",
      "metadata": {
        "collapsed": false,
        "id": "VZywRy1FCFZe",
        "pycharm": {
          "name": "#%% md\n"
        }
      },
      "source": [
        "# Part 3 - PyTorch tutorial in SecML\n",
        "[PyTorch](https://pytorch.org) is a framework for creating deep neural networks, and it is implemented to handle the back-propagation as smooth as possible, by already providing implementations of the most used layers (convolutions, dense, etc.)\n",
        "\n",
        "A PyTorch neural network is defined as a class that defines its architecture and how if performs the forward pass. You can find more examples in the [PyTorch documentation](https://pytorch.org/tutorials/beginner/blitz/cifar10_tutorial.html)."
      ]
    },
    {
      "cell_type": "code",
      "execution_count": 24,
      "metadata": {
        "id": "rJk4QpG2CFZe",
        "pycharm": {
          "name": "#%%\n"
        }
      },
      "outputs": [],
      "source": [
        "from torch import nn\n",
        "import torch\n",
        "\n",
        "class Net(nn.Module):\n",
        "    \"\"\"Model with input size (-1, 28, 28) for MNIST 10-classes dataset.\"\"\"\n",
        "    def __init__(self):\n",
        "        super(Net, self).__init__()\n",
        "        self.conv1 = nn.Conv2d(1, 10, kernel_size=5)\n",
        "        self.conv2 = nn.Conv2d(10, 20, kernel_size=5)\n",
        "        self.conv2_drop = nn.Dropout2d()\n",
        "        self.fc1 = nn.Linear(320, 50)\n",
        "        self.fc2 = nn.Linear(50, 10)\n",
        "\n",
        "    def forward(self, x):\n",
        "        x = torch.relu(torch.max_pool2d(self.conv1(x), 2))\n",
        "        x = torch.relu(torch.max_pool2d(self.conv2_drop(self.conv2(x)), 2))\n",
        "        x = x.view(-1, 320)\n",
        "        x = torch.relu(self.fc1(x))\n",
        "        return self.fc2(x)"
      ]
    },
    {
      "cell_type": "markdown",
      "metadata": {
        "collapsed": false,
        "id": "Q5RjkKHXCFZe",
        "pycharm": {
          "name": "#%% md\n"
        }
      },
      "source": [
        "The `Net` class extends the `Module` PyTorch class, and the constructor `__init__` function specifies the architecture. Note that the last layer has 10 outputs, as the number of classes of our dataset. Then, the `forward` function describes how to pass the input through all the defined layers (with activation functions).\n",
        "\n",
        "Now we download the [MNIST dataset](http://yann.lecun.com/exdb/mnist/) to train the classifier."
      ]
    },
    {
      "cell_type": "code",
      "execution_count": 25,
      "metadata": {
        "id": "7TBc6jc_CFZe",
        "pycharm": {
          "name": "#%%\n"
        }
      },
      "outputs": [],
      "source": [
        "n_tr = 3000  # number of training samples\n",
        "n_ts = 1000  # number of testing samples\n",
        "\n",
        "from secml.data.loader import CDataLoaderMNIST\n",
        "\n",
        "loader = CDataLoaderMNIST()\n",
        "tr = loader.load('training')\n",
        "ts = loader.load('testing', num_samples=n_ts)\n",
        "\n",
        "# normalize the data\n",
        "tr.X /= 255\n",
        "ts.X /= 255"
      ]
    },
    {
      "cell_type": "markdown",
      "metadata": {
        "collapsed": false,
        "id": "IPdRRHtqCFZe",
        "pycharm": {
          "name": "#%% md\n"
        }
      },
      "source": [
        "With data and the architecture, we can start the training phase.\n",
        "We will use [Stochastic Gradient Descent](https://en.wikipedia.org/wiki/Stochastic_gradient_descent) to fine-tune the weights of all the layers of the neural network. Lastly, we need a function that quantifies how much the network is performing well while training, that will be used by the optimizer as a guide.\n",
        "We define a *loss function*, in this case the [Cross-entropy loss](https://en.wikipedia.org/wiki/Cross_entropy) that quantify the error committed by the neural network.\n",
        "The larger the loss, the worse the network is behaving. The SGD optimizer will update the model weights to reduce the value of this loss function, and hence creating a network that has a high classification performance."
      ]
    },
    {
      "cell_type": "code",
      "execution_count": 26,
      "metadata": {
        "id": "s5H-xg5pCFZf",
        "pycharm": {
          "name": "#%%\n"
        }
      },
      "outputs": [],
      "source": [
        "import torch.optim as optim\n",
        "\n",
        "net = Net()\n",
        "optimizer = optim.SGD(net.parameters(), lr=0.001, momentum=0.9)\n",
        "loss_function = nn.CrossEntropyLoss()"
      ]
    },
    {
      "cell_type": "markdown",
      "metadata": {
        "collapsed": false,
        "id": "FXaiTTL-CFZf",
        "pycharm": {
          "name": "#%% md\n"
        }
      },
      "source": [
        "We can now pass all the ingredients to the SecML wrapper for PyTorch models and train our network."
      ]
    },
    {
      "cell_type": "code",
      "execution_count": 27,
      "metadata": {
        "id": "XJZGBxYFCFZf",
        "pycharm": {
          "name": "#%%\n"
        }
      },
      "outputs": [
        {
          "data": {
            "text/plain": [
              "Net(\n",
              "  (conv1): Conv2d(1, 10, kernel_size=(5, 5), stride=(1, 1))\n",
              "  (conv2): Conv2d(10, 20, kernel_size=(5, 5), stride=(1, 1))\n",
              "  (conv2_drop): Dropout2d(p=0.5, inplace=False)\n",
              "  (fc1): Linear(in_features=320, out_features=50, bias=True)\n",
              "  (fc2): Linear(in_features=50, out_features=10, bias=True)\n",
              ")"
            ]
          },
          "execution_count": 27,
          "metadata": {},
          "output_type": "execute_result"
        }
      ],
      "source": [
        "from secml.ml.classifiers import CClassifierPyTorch\n",
        "clf = CClassifierPyTorch(model=net,\n",
        "                         loss=loss_function,\n",
        "                         optimizer=optimizer,\n",
        "                         epochs=3,\n",
        "                         batch_size=20,\n",
        "                         input_shape=(1, 28, 28),\n",
        "                         random_state=0)\n",
        "\n",
        "clf.fit(tr.X, tr.Y)"
      ]
    },
    {
      "cell_type": "markdown",
      "metadata": {
        "collapsed": false,
        "id": "SVoXdbVyCFZf",
        "pycharm": {
          "name": "#%% md\n"
        }
      },
      "source": [
        "We can now test the trained network on few samples."
      ]
    },
    {
      "cell_type": "code",
      "execution_count": 28,
      "metadata": {
        "id": "IOBt6RpBCFZf",
        "pycharm": {
          "name": "#%%\n"
        }
      },
      "outputs": [
        {
          "name": "stdout",
          "output_type": "stream",
          "text": [
            "Model Accuracy: 0.961\n"
          ]
        }
      ],
      "source": [
        "label_torch = clf.predict(ts.X, return_decision_function=False)\n",
        "\n",
        "from secml.ml.peval.metrics import CMetric\n",
        "metric = CMetric.create('accuracy')\n",
        "acc_torch = metric.performance_score(ts.Y, label_torch)\n",
        "\n",
        "print(\"Model Accuracy: {}\".format(acc_torch))"
      ]
    },
    {
      "cell_type": "markdown",
      "metadata": {
        "collapsed": false,
        "id": "GbFHoCS2CFZf",
        "pycharm": {
          "name": "#%% md\n"
        }
      },
      "source": [
        "We can now visualize some samples along with their predictions."
      ]
    },
    {
      "cell_type": "code",
      "execution_count": 29,
      "metadata": {
        "id": "nZfNcSL0CFZf",
        "pycharm": {
          "name": "#%%\n"
        }
      },
      "outputs": [
        {
          "data": {
            "image/png": "[encoded data removed]",
            "text/plain": [
              "<Figure size 1000x300 with 5 Axes>"
            ]
          },
          "metadata": {},
          "output_type": "display_data"
        }
      ],
      "source": [
        "from secml.figure import CFigure\n",
        "# only required for visualization in notebooks\n",
        "%matplotlib inline\n",
        "\n",
        "# let's define a convenience function to easily plot the MNIST dataset\n",
        "def show_digits(samples, preds, labels, digs, n_display=8):\n",
        "    samples = samples.atleast_2d()\n",
        "    n_display = min(n_display, samples.shape[0])\n",
        "    fig = CFigure(width=n_display*2, height=3)\n",
        "    for idx in range(n_display):\n",
        "        fig.subplot(2, n_display, idx+1)\n",
        "        fig.sp.xticks([])\n",
        "        fig.sp.yticks([])\n",
        "        fig.sp.imshow(samples[idx, :].reshape((28, 28)), cmap='gray')\n",
        "        fig.sp.title(\"{} ({})\".format(digs[labels[idx].item()], digs[preds[idx].item()]),\n",
        "                     color=(\"green\" if labels[idx].item()==preds[idx].item() else \"red\"))\n",
        "    fig.show()\n",
        "\n",
        "digits = list(range(10))\n",
        "show_digits(ts.X[:5, :], clf.predict(ts.X[:5, :]), ts.Y[:5], digits)"
      ]
    },
    {
      "cell_type": "markdown",
      "metadata": {
        "collapsed": false,
        "id": "yzs7ZT10CFZf",
        "pycharm": {
          "name": "#%% md\n"
        }
      },
      "source": [
        "# Exercise 3\n",
        "Use the code of this tutorial as an example to complete the assignment.\n",
        "* Create a sklearn KNN classifier and wrap it with SecML\n",
        "* Create a SecML wrapper for the newly created classifier\n",
        "* Fit the classifier on the MNIST dataset using SecML\n",
        "* Compute the accuracy on the test set\n"
      ]
    },
    {
      "cell_type": "code",
      "execution_count": 36,
      "metadata": {
        "id": "rfXBdClWCFZf",
        "pycharm": {
          "name": "#%%\n"
        }
      },
      "outputs": [
        {
          "name": "stdout",
          "output_type": "stream",
          "text": [
            "KNN Model Accuracy: 0.961\n"
          ]
        }
      ],
      "source": [
        "# TODO write your code here\n",
        "\n",
        "# Hints\n",
        "# -----\n",
        "#\n",
        "# from sklearn.neighbors import KNeighborsClassifier\n",
        "# sklearn_clf = ...\n",
        "# secml_clf = ...\n",
        "#\n",
        "# # code for training and testing the classifier\n",
        "# ...\n",
        "from sklearn.neighbors import KNeighborsClassifier\n",
        "from secml.ml.classifiers import CClassifierSkLearn\n",
        "\n",
        "# Create a scikit-learn KNN classifier\n",
        "sklearn_knn = KNeighborsClassifier(n_neighbors=5)\n",
        "\n",
        "# Wrap the scikit-learn KNN classifier with SecML\n",
        "secml_knn = CClassifierSkLearn(sklearn_knn)\n",
        "\n",
        "# Fit the classifier on the MNIST dataset using SecML\n",
        "secml_knn.fit(tr.X, tr.Y)\n",
        "\n",
        "# Compute the accuracy on the test set\n",
        "label_knn = secml_knn.predict(ts.X, return_decision_function=False)\n",
        "\n",
        "from secml.ml.peval.metrics import CMetric\n",
        "metric_knn = CMetric.create('accuracy')\n",
        "acc_knn = metric_knn.performance_score(ts.Y, label_knn)\n",
        "\n",
        "print(\"KNN Model Accuracy: {}\".format(acc_knn))\n"
      ]
    }
  ],
  "metadata": {
    "colab": {
      "provenance": []
    },
    "kernelspec": {
      "display_name": "Python 3",
      "language": "python",
      "name": "python3"
    },
    "language_info": {
      "codemirror_mode": {
        "name": "ipython",
        "version": 3
      },
      "file_extension": ".py",
      "mimetype": "text/x-python",
      "name": "python",
      "nbconvert_exporter": "python",
      "pygments_lexer": "ipython3",
      "version": "3.8.18"
    }
  },
  "nbformat": 4,
  "nbformat_minor": 0
}
