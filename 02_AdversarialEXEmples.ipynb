{
  "cells": [
    {
      "cell_type": "markdown",
      "metadata": {
        "collapsed": false,
        "id": "Bi6-wReDDZ2F",
        "pycharm": {
          "name": "#%% md\n"
        }
      },
      "source": [
        "# Adversarial EXEmples: evasion attacks against Windows malware detectors\n",
        "\n",
        "In this laboratory, you will learn how to use SecML to create adversarial examples against Windows malware detector implemented through machine learning techniques. To do so, we will use [SecML malware](https://github.com/pralab/secml_malware), a SecML plugin containing most of the strategies developed to evade detectors.\n",
        "\n",
        "[![Open In Colab](https://colab.research.google.com/assets/colab-badge.svg)](\n",
        "https://colab.research.google.com/github/zangobot/teaching_material/blob/main/02-AdversarialEXEmples.ipynb)"
      ]
    },
    {
      "cell_type": "code",
      "execution_count": 1,
      "metadata": {
        "id": "Nmvlm0YKDZ2H",
        "pycharm": {
          "name": "#%%\n"
        }
      },
      "outputs": [
        {
          "name": "stdout",
          "output_type": "stream",
          "text": [
            "Collecting git+https://github.com/elastic/ember.git\n",
            "  Cloning https://github.com/elastic/ember.git to /private/var/folders/yg/jd8vqqp57j99nvptf_hx03sr0000gn/T/pip-req-build-1ja5fxua\n",
            "  Running command git clone --filter=blob:none --quiet https://github.com/elastic/ember.git /private/var/folders/yg/jd8vqqp57j99nvptf_hx03sr0000gn/T/pip-req-build-1ja5fxua\n",
            "  Resolved https://github.com/elastic/ember.git to commit d97a0b523de02f3fe5ea6089d080abacab6ee931\n",
            "  Preparing metadata (setup.py) ... \u001b[?25ldone\n",
            "\u001b[?25hNote: you may need to restart the kernel to use updated packages.\n",
            "Collecting secml-malware\n",
            "  Using cached secml_malware-0.2.8-py3-none-any.whl.metadata (6.0 kB)\n",
            "Collecting lief (from secml-malware)\n",
            "  Using cached lief-0.12.3.zip (16.2 MB)\n",
            "  Preparing metadata (setup.py) ... \u001b[?25ldone\n",
            "\u001b[?25hCollecting python-magic (from secml-malware)\n",
            "  Using cached python_magic-0.4.27-py2.py3-none-any.whl (13 kB)\n",
            "Requirement already satisfied: matplotlib in /Users/veronicagavagna/anaconda3/envs/secml/lib/python3.8/site-packages (from secml-malware) (3.4.3)\n",
            "Requirement already satisfied: numpy in /Users/veronicagavagna/anaconda3/envs/secml/lib/python3.8/site-packages (from secml-malware) (1.24.3)\n",
            "Collecting seaborn (from secml-malware)\n",
            "  Using cached seaborn-0.13.0-py3-none-any.whl.metadata (5.3 kB)\n",
            "Requirement already satisfied: secml in /Users/veronicagavagna/anaconda3/envs/secml/lib/python3.8/site-packages (from secml-malware) (0.14.1)\n",
            "Collecting lightgbm (from secml-malware)\n",
            "  Using cached lightgbm-4.1.0.tar.gz (1.7 MB)\n",
            "  Installing build dependencies ... \u001b[?25ldone\n",
            "\u001b[?25h  Getting requirements to build wheel ... \u001b[?25ldone\n",
            "\u001b[?25h  Installing backend dependencies ... \u001b[?25ldone\n",
            "\u001b[?25h  Preparing metadata (pyproject.toml) ... \u001b[?25ldone\n",
            "\u001b[?25hCollecting deap (from secml-malware)\n",
            "  Using cached deap-1.4.1-cp38-cp38-macosx_11_0_arm64.whl\n",
            "Requirement already satisfied: torch in /Users/veronicagavagna/anaconda3/envs/secml/lib/python3.8/site-packages (from secml-malware) (2.1.0)\n",
            "Requirement already satisfied: torchvision in /Users/veronicagavagna/anaconda3/envs/secml/lib/python3.8/site-packages (from secml-malware) (0.16.0)\n",
            "Requirement already satisfied: ember in /Users/veronicagavagna/anaconda3/envs/secml/lib/python3.8/site-packages (from secml-malware) (0.1.0)\n",
            "Collecting tqdm (from secml-malware)\n",
            "  Using cached tqdm-4.66.1-py3-none-any.whl.metadata (57 kB)\n",
            "Requirement already satisfied: scipy in /Users/veronicagavagna/anaconda3/envs/secml/lib/python3.8/site-packages (from lightgbm->secml-malware) (1.10.1)\n",
            "Requirement already satisfied: cycler>=0.10 in /Users/veronicagavagna/anaconda3/envs/secml/lib/python3.8/site-packages (from matplotlib->secml-malware) (0.12.1)\n",
            "Requirement already satisfied: kiwisolver>=1.0.1 in /Users/veronicagavagna/anaconda3/envs/secml/lib/python3.8/site-packages (from matplotlib->secml-malware) (1.4.4)\n",
            "Requirement already satisfied: pillow>=6.2.0 in /Users/veronicagavagna/anaconda3/envs/secml/lib/python3.8/site-packages (from matplotlib->secml-malware) (10.1.0)\n",
            "Requirement already satisfied: pyparsing>=2.2.1 in /Users/veronicagavagna/anaconda3/envs/secml/lib/python3.8/site-packages (from matplotlib->secml-malware) (3.1.1)\n",
            "Requirement already satisfied: python-dateutil>=2.7 in /Users/veronicagavagna/anaconda3/envs/secml/lib/python3.8/site-packages (from matplotlib->secml-malware) (2.8.2)\n",
            "Collecting pandas>=1.2 (from seaborn->secml-malware)\n",
            "  Using cached pandas-2.0.3-cp38-cp38-macosx_11_0_arm64.whl.metadata (18 kB)\n",
            "Requirement already satisfied: scikit-learn>=0.22 in /Users/veronicagavagna/anaconda3/envs/secml/lib/python3.8/site-packages (from secml->secml-malware) (1.3.0)\n",
            "Requirement already satisfied: joblib>=0.14 in /Users/veronicagavagna/anaconda3/envs/secml/lib/python3.8/site-packages (from secml->secml-malware) (1.3.2)\n",
            "Requirement already satisfied: requests in /Users/veronicagavagna/anaconda3/envs/secml/lib/python3.8/site-packages (from secml->secml-malware) (2.31.0)\n",
            "Requirement already satisfied: filelock in /Users/veronicagavagna/anaconda3/envs/secml/lib/python3.8/site-packages (from torch->secml-malware) (3.13.1)\n",
            "Requirement already satisfied: typing-extensions in /Users/veronicagavagna/anaconda3/envs/secml/lib/python3.8/site-packages (from torch->secml-malware) (4.8.0)\n",
            "Requirement already satisfied: sympy in /Users/veronicagavagna/anaconda3/envs/secml/lib/python3.8/site-packages (from torch->secml-malware) (1.12)\n",
            "Requirement already satisfied: networkx in /Users/veronicagavagna/anaconda3/envs/secml/lib/python3.8/site-packages (from torch->secml-malware) (3.1)\n",
            "Requirement already satisfied: jinja2 in /Users/veronicagavagna/anaconda3/envs/secml/lib/python3.8/site-packages (from torch->secml-malware) (3.1.2)\n",
            "Requirement already satisfied: fsspec in /Users/veronicagavagna/anaconda3/envs/secml/lib/python3.8/site-packages (from torch->secml-malware) (2023.10.0)\n",
            "Requirement already satisfied: pytz>=2020.1 in /Users/veronicagavagna/anaconda3/envs/secml/lib/python3.8/site-packages (from pandas>=1.2->seaborn->secml-malware) (2023.3.post1)\n",
            "Collecting tzdata>=2022.1 (from pandas>=1.2->seaborn->secml-malware)\n",
            "  Using cached tzdata-2023.3-py2.py3-none-any.whl (341 kB)\n",
            "Requirement already satisfied: six>=1.5 in /Users/veronicagavagna/anaconda3/envs/secml/lib/python3.8/site-packages (from python-dateutil>=2.7->matplotlib->secml-malware) (1.16.0)\n",
            "Requirement already satisfied: threadpoolctl>=2.0.0 in /Users/veronicagavagna/anaconda3/envs/secml/lib/python3.8/site-packages (from scikit-learn>=0.22->secml->secml-malware) (3.2.0)\n",
            "Requirement already satisfied: MarkupSafe>=2.0 in /Users/veronicagavagna/anaconda3/envs/secml/lib/python3.8/site-packages (from jinja2->torch->secml-malware) (2.1.3)\n",
            "Requirement already satisfied: charset-normalizer<4,>=2 in /Users/veronicagavagna/anaconda3/envs/secml/lib/python3.8/site-packages (from requests->secml->secml-malware) (3.3.2)\n",
            "Requirement already satisfied: idna<4,>=2.5 in /Users/veronicagavagna/anaconda3/envs/secml/lib/python3.8/site-packages (from requests->secml->secml-malware) (3.4)\n",
            "Requirement already satisfied: urllib3<3,>=1.21.1 in /Users/veronicagavagna/anaconda3/envs/secml/lib/python3.8/site-packages (from requests->secml->secml-malware) (2.0.7)\n",
            "Requirement already satisfied: certifi>=2017.4.17 in /Users/veronicagavagna/anaconda3/envs/secml/lib/python3.8/site-packages (from requests->secml->secml-malware) (2023.11.17)\n",
            "Requirement already satisfied: mpmath>=0.19 in /Users/veronicagavagna/anaconda3/envs/secml/lib/python3.8/site-packages (from sympy->torch->secml-malware) (1.3.0)\n",
            "Using cached secml_malware-0.2.8-py3-none-any.whl (3.9 MB)\n",
            "Using cached seaborn-0.13.0-py3-none-any.whl (294 kB)\n",
            "Using cached tqdm-4.66.1-py3-none-any.whl (78 kB)\n",
            "Using cached pandas-2.0.3-cp38-cp38-macosx_11_0_arm64.whl (10.7 MB)\n",
            "Building wheels for collected packages: lief, lightgbm\n",
            "  Building wheel for lief (setup.py) ... \u001b[?25lerror\n",
            "  \u001b[1;31merror\u001b[0m: \u001b[1msubprocess-exited-with-error\u001b[0m\n",
            "  \n",
            "  \u001b[31m×\u001b[0m \u001b[32mpython setup.py bdist_wheel\u001b[0m did not run successfully.\n",
            "  \u001b[31m│\u001b[0m exit code: \u001b[1;36m1\u001b[0m\n",
            "  \u001b[31m╰─>\u001b[0m \u001b[31m[59 lines of output]\u001b[0m\n",
            "  \u001b[31m   \u001b[0m /private/var/folders/yg/jd8vqqp57j99nvptf_hx03sr0000gn/T/pip-install-a73hcm24/lief_7f5ed4c120bf4f9aad928a53a9b7df69/setup.py:10: DeprecationWarning: pkg_resources is deprecated as an API. See https://setuptools.pypa.io/en/latest/pkg_resources.html\n",
            "  \u001b[31m   \u001b[0m   from pkg_resources import get_distribution\n",
            "  \u001b[31m   \u001b[0m /private/var/folders/yg/jd8vqqp57j99nvptf_hx03sr0000gn/T/pip-install-a73hcm24/lief_7f5ed4c120bf4f9aad928a53a9b7df69/setup.py:20: DeprecationWarning: distutils Version classes are deprecated. Use packaging.version instead.\n",
            "  \u001b[31m   \u001b[0m   assert (LooseVersion(setuptools.__version__) >= LooseVersion(MIN_SETUPTOOLS_VERSION)), \"LIEF requires a setuptools version '{}' or higher (pip install setuptools --upgrade)\".format(MIN_SETUPTOOLS_VERSION)\n",
            "  \u001b[31m   \u001b[0m 0.12.3\n",
            "  \u001b[31m   \u001b[0m running bdist_wheel\n",
            "  \u001b[31m   \u001b[0m running build\n",
            "  \u001b[31m   \u001b[0m running build_ext\n",
            "  \u001b[31m   \u001b[0m Traceback (most recent call last):\n",
            "  \u001b[31m   \u001b[0m   File \"/private/var/folders/yg/jd8vqqp57j99nvptf_hx03sr0000gn/T/pip-install-a73hcm24/lief_7f5ed4c120bf4f9aad928a53a9b7df69/setup.py\", line 92, in run\n",
            "  \u001b[31m   \u001b[0m     subprocess.check_output(['cmake', '--version'])\n",
            "  \u001b[31m   \u001b[0m   File \"/Users/veronicagavagna/anaconda3/envs/secml/lib/python3.8/subprocess.py\", line 415, in check_output\n",
            "  \u001b[31m   \u001b[0m     return run(*popenargs, stdout=PIPE, timeout=timeout, check=True,\n",
            "  \u001b[31m   \u001b[0m   File \"/Users/veronicagavagna/anaconda3/envs/secml/lib/python3.8/subprocess.py\", line 493, in run\n",
            "  \u001b[31m   \u001b[0m     with Popen(*popenargs, **kwargs) as process:\n",
            "  \u001b[31m   \u001b[0m   File \"/Users/veronicagavagna/anaconda3/envs/secml/lib/python3.8/subprocess.py\", line 858, in __init__\n",
            "  \u001b[31m   \u001b[0m     self._execute_child(args, executable, preexec_fn, close_fds,\n",
            "  \u001b[31m   \u001b[0m   File \"/Users/veronicagavagna/anaconda3/envs/secml/lib/python3.8/subprocess.py\", line 1720, in _execute_child\n",
            "  \u001b[31m   \u001b[0m     raise child_exception_type(errno_num, err_msg, err_filename)\n",
            "  \u001b[31m   \u001b[0m FileNotFoundError: [Errno 2] No such file or directory: 'cmake'\n",
            "  \u001b[31m   \u001b[0m \n",
            "  \u001b[31m   \u001b[0m During handling of the above exception, another exception occurred:\n",
            "  \u001b[31m   \u001b[0m \n",
            "  \u001b[31m   \u001b[0m Traceback (most recent call last):\n",
            "  \u001b[31m   \u001b[0m   File \"<string>\", line 2, in <module>\n",
            "  \u001b[31m   \u001b[0m   File \"<pip-setuptools-caller>\", line 34, in <module>\n",
            "  \u001b[31m   \u001b[0m   File \"/private/var/folders/yg/jd8vqqp57j99nvptf_hx03sr0000gn/T/pip-install-a73hcm24/lief_7f5ed4c120bf4f9aad928a53a9b7df69/setup.py\", line 484, in <module>\n",
            "  \u001b[31m   \u001b[0m     setup(\n",
            "  \u001b[31m   \u001b[0m   File \"/Users/veronicagavagna/anaconda3/envs/secml/lib/python3.8/site-packages/setuptools/__init__.py\", line 103, in setup\n",
            "  \u001b[31m   \u001b[0m     return distutils.core.setup(**attrs)\n",
            "  \u001b[31m   \u001b[0m   File \"/Users/veronicagavagna/anaconda3/envs/secml/lib/python3.8/site-packages/setuptools/_distutils/core.py\", line 185, in setup\n",
            "  \u001b[31m   \u001b[0m     return run_commands(dist)\n",
            "  \u001b[31m   \u001b[0m   File \"/Users/veronicagavagna/anaconda3/envs/secml/lib/python3.8/site-packages/setuptools/_distutils/core.py\", line 201, in run_commands\n",
            "  \u001b[31m   \u001b[0m     dist.run_commands()\n",
            "  \u001b[31m   \u001b[0m   File \"/Users/veronicagavagna/anaconda3/envs/secml/lib/python3.8/site-packages/setuptools/_distutils/dist.py\", line 969, in run_commands\n",
            "  \u001b[31m   \u001b[0m     self.run_command(cmd)\n",
            "  \u001b[31m   \u001b[0m   File \"/Users/veronicagavagna/anaconda3/envs/secml/lib/python3.8/site-packages/setuptools/dist.py\", line 989, in run_command\n",
            "  \u001b[31m   \u001b[0m     super().run_command(command)\n",
            "  \u001b[31m   \u001b[0m   File \"/Users/veronicagavagna/anaconda3/envs/secml/lib/python3.8/site-packages/setuptools/_distutils/dist.py\", line 988, in run_command\n",
            "  \u001b[31m   \u001b[0m     cmd_obj.run()\n",
            "  \u001b[31m   \u001b[0m   File \"/Users/veronicagavagna/anaconda3/envs/secml/lib/python3.8/site-packages/wheel/bdist_wheel.py\", line 364, in run\n",
            "  \u001b[31m   \u001b[0m     self.run_command(\"build\")\n",
            "  \u001b[31m   \u001b[0m   File \"/Users/veronicagavagna/anaconda3/envs/secml/lib/python3.8/site-packages/setuptools/_distutils/cmd.py\", line 318, in run_command\n",
            "  \u001b[31m   \u001b[0m     self.distribution.run_command(command)\n",
            "  \u001b[31m   \u001b[0m   File \"/Users/veronicagavagna/anaconda3/envs/secml/lib/python3.8/site-packages/setuptools/dist.py\", line 989, in run_command\n",
            "  \u001b[31m   \u001b[0m     super().run_command(command)\n",
            "  \u001b[31m   \u001b[0m   File \"/Users/veronicagavagna/anaconda3/envs/secml/lib/python3.8/site-packages/setuptools/_distutils/dist.py\", line 988, in run_command\n",
            "  \u001b[31m   \u001b[0m     cmd_obj.run()\n",
            "  \u001b[31m   \u001b[0m   File \"/Users/veronicagavagna/anaconda3/envs/secml/lib/python3.8/site-packages/setuptools/_distutils/command/build.py\", line 131, in run\n",
            "  \u001b[31m   \u001b[0m     self.run_command(cmd_name)\n",
            "  \u001b[31m   \u001b[0m   File \"/Users/veronicagavagna/anaconda3/envs/secml/lib/python3.8/site-packages/setuptools/_distutils/cmd.py\", line 318, in run_command\n",
            "  \u001b[31m   \u001b[0m     self.distribution.run_command(command)\n",
            "  \u001b[31m   \u001b[0m   File \"/Users/veronicagavagna/anaconda3/envs/secml/lib/python3.8/site-packages/setuptools/dist.py\", line 989, in run_command\n",
            "  \u001b[31m   \u001b[0m     super().run_command(command)\n",
            "  \u001b[31m   \u001b[0m   File \"/Users/veronicagavagna/anaconda3/envs/secml/lib/python3.8/site-packages/setuptools/_distutils/dist.py\", line 988, in run_command\n",
            "  \u001b[31m   \u001b[0m     cmd_obj.run()\n",
            "  \u001b[31m   \u001b[0m   File \"/private/var/folders/yg/jd8vqqp57j99nvptf_hx03sr0000gn/T/pip-install-a73hcm24/lief_7f5ed4c120bf4f9aad928a53a9b7df69/setup.py\", line 94, in run\n",
            "  \u001b[31m   \u001b[0m     raise RuntimeError(\"CMake must be installed to build the following extensions: \" +\n",
            "  \u001b[31m   \u001b[0m RuntimeError: CMake must be installed to build the following extensions: lief\n",
            "  \u001b[31m   \u001b[0m \u001b[31m[end of output]\u001b[0m\n",
            "  \n",
            "  \u001b[1;35mnote\u001b[0m: This error originates from a subprocess, and is likely not a problem with pip.\n",
            "\u001b[31m  ERROR: Failed building wheel for lief\u001b[0m\u001b[31m\n",
            "\u001b[0m\u001b[?25h  Running setup.py clean for lief\n",
            "  Building wheel for lightgbm (pyproject.toml) ... \u001b[?25lerror\n",
            "  \u001b[1;31merror\u001b[0m: \u001b[1msubprocess-exited-with-error\u001b[0m\n",
            "  \n",
            "  \u001b[31m×\u001b[0m \u001b[32mBuilding wheel for lightgbm \u001b[0m\u001b[1;32m(\u001b[0m\u001b[32mpyproject.toml\u001b[0m\u001b[1;32m)\u001b[0m did not run successfully.\n",
            "  \u001b[31m│\u001b[0m exit code: \u001b[1;36m1\u001b[0m\n",
            "  \u001b[31m╰─>\u001b[0m \u001b[31m[44 lines of output]\u001b[0m\n",
            "  \u001b[31m   \u001b[0m 2023-12-17 15:55:05,383 - scikit_build_core - INFO - CMake version: 3.28.1\n",
            "  \u001b[31m   \u001b[0m \u001b[92m***\u001b[0m \u001b[1m\u001b[92mscikit-build-core 0.7.0\u001b[0m using \u001b[94mCMake 3.28.1\u001b[0m \u001b[91m(wheel)\u001b[0m\u001b[0m\n",
            "  \u001b[31m   \u001b[0m 2023-12-17 15:55:05,389 - scikit_build_core - INFO - Build directory: /private/var/folders/yg/jd8vqqp57j99nvptf_hx03sr0000gn/T/tmph78ucpfn/build\n",
            "  \u001b[31m   \u001b[0m \u001b[92m***\u001b[0m \u001b[1mConfiguring CMake...\u001b[0m\n",
            "  \u001b[31m   \u001b[0m 2023-12-17 15:55:05,461 - scikit_build_core - INFO - Ninja version: 1.11.1\n",
            "  \u001b[31m   \u001b[0m loading initial cache file /var/folders/yg/jd8vqqp57j99nvptf_hx03sr0000gn/T/tmph78ucpfn/build/CMakeInit.txt\n",
            "  \u001b[31m   \u001b[0m \u001b[0mCMake Deprecation Warning at CMakeLists.txt:35 (cmake_minimum_required):\n",
            "  \u001b[31m   \u001b[0m   Compatibility with CMake < 3.5 will be removed from a future version of\n",
            "  \u001b[31m   \u001b[0m   CMake.\n",
            "  \u001b[31m   \u001b[0m \n",
            "  \u001b[31m   \u001b[0m   Update the VERSION argument <min> value or use a ...<max> suffix to tell\n",
            "  \u001b[31m   \u001b[0m   CMake that the project does not need compatibility with older versions.\n",
            "  \u001b[31m   \u001b[0m \n",
            "  \u001b[31m   \u001b[0m \u001b[0m\n",
            "  \u001b[31m   \u001b[0m -- The C compiler identification is AppleClang 15.0.0.15000100\n",
            "  \u001b[31m   \u001b[0m -- The CXX compiler identification is AppleClang 15.0.0.15000100\n",
            "  \u001b[31m   \u001b[0m -- Detecting C compiler ABI info\n",
            "  \u001b[31m   \u001b[0m -- Detecting C compiler ABI info - done\n",
            "  \u001b[31m   \u001b[0m -- Check for working C compiler: /Library/Developer/CommandLineTools/usr/bin/cc - skipped\n",
            "  \u001b[31m   \u001b[0m -- Detecting C compile features\n",
            "  \u001b[31m   \u001b[0m -- Detecting C compile features - done\n",
            "  \u001b[31m   \u001b[0m -- Detecting CXX compiler ABI info\n",
            "  \u001b[31m   \u001b[0m -- Detecting CXX compiler ABI info - done\n",
            "  \u001b[31m   \u001b[0m -- Check for working CXX compiler: /Library/Developer/CommandLineTools/usr/bin/c++ - skipped\n",
            "  \u001b[31m   \u001b[0m -- Detecting CXX compile features\n",
            "  \u001b[31m   \u001b[0m -- Detecting CXX compile features - done\n",
            "  \u001b[31m   \u001b[0m -- Could NOT find OpenMP_C (missing: OpenMP_C_FLAGS OpenMP_C_LIB_NAMES)\n",
            "  \u001b[31m   \u001b[0m -- Could NOT find OpenMP_CXX (missing: OpenMP_CXX_FLAGS OpenMP_CXX_LIB_NAMES)\n",
            "  \u001b[31m   \u001b[0m -- Could NOT find OpenMP (missing: OpenMP_C_FOUND OpenMP_CXX_FOUND)\n",
            "  \u001b[31m   \u001b[0m -- Found OpenMP_C: -Xpreprocessor -fopenmp -I/opt/homebrew/opt/libomp/include\n",
            "  \u001b[31m   \u001b[0m -- Found OpenMP_CXX: -Xpreprocessor -fopenmp -I/opt/homebrew/opt/libomp/include\n",
            "  \u001b[31m   \u001b[0m -- Found OpenMP: TRUE\n",
            "  \u001b[31m   \u001b[0m -- Performing Test MM_PREFETCH\n",
            "  \u001b[31m   \u001b[0m -- Performing Test MM_PREFETCH - Failed\n",
            "  \u001b[31m   \u001b[0m -- Performing Test MM_MALLOC\n",
            "  \u001b[31m   \u001b[0m -- Performing Test MM_MALLOC - Success\n",
            "  \u001b[31m   \u001b[0m -- Using _mm_malloc\n",
            "  \u001b[31m   \u001b[0m -- Configuring done (1.1s)\n",
            "  \u001b[31m   \u001b[0m -- Generating done (0.0s)\n",
            "  \u001b[31m   \u001b[0m -- Build files have been written to: /var/folders/yg/jd8vqqp57j99nvptf_hx03sr0000gn/T/tmph78ucpfn/build\n",
            "  \u001b[31m   \u001b[0m \u001b[92m***\u001b[0m \u001b[1mBuilding project with \u001b[94mNinja\u001b[0m...\u001b[0m\n",
            "  \u001b[31m   \u001b[0m ninja: error: '/opt/homebrew/opt/libomp/lib/libomp.dylib', needed by '/private/var/folders/yg/jd8vqqp57j99nvptf_hx03sr0000gn/T/pip-install-a73hcm24/lightgbm_0baab89302af47a6996f13730eb7219a/lib_lightgbm.so', missing and no known rule to make it\n",
            "  \u001b[31m   \u001b[0m \n",
            "  \u001b[31m   \u001b[0m \u001b[91m\u001b[1m*** CMake build failed\u001b[0m\n",
            "  \u001b[31m   \u001b[0m \u001b[31m[end of output]\u001b[0m\n",
            "  \n",
            "  \u001b[1;35mnote\u001b[0m: This error originates from a subprocess, and is likely not a problem with pip.\n",
            "\u001b[?25h\u001b[31m  ERROR: Failed building wheel for lightgbm\u001b[0m\u001b[31m\n",
            "\u001b[0mFailed to build lief lightgbm\n",
            "\u001b[31mERROR: Could not build wheels for lief, lightgbm, which is required to install pyproject.toml-based projects\u001b[0m\u001b[31m\n",
            "\u001b[0mNote: you may need to restart the kernel to use updated packages.\n"
          ]
        }
      ],
      "source": [
        "try:\n",
        "    import secml_malware\n",
        "except ImportError:\n",
        "    %pip install git+https://github.com/elastic/ember.git\n",
        "    %pip install secml-malware"
      ]
    },
    {
      "cell_type": "markdown",
      "metadata": {
        "collapsed": false,
        "id": "vfMgGD8vDZ2I",
        "pycharm": {
          "name": "#%% md\n"
        }
      },
      "source": [
        "# The Windows PE file format\n",
        "Before starting the explanations of attacks, we remind how Windows programs are stored as file, following the [Windows Portable Executable (PE)](https://learn.microsoft.com/en-us/windows/win32/debug/pe-format) file format.\n",
        "There are tons of Python libraries for dissecting programs, one of the best is [lief](https://github.com/lief-project/LIEF).\n",
        "The latter is also used inside `secml-malware` to perturb samples, as shown later on in this tutorial.\n",
        "Opening an executable is straight-forward:"
      ]
    },
    {
      "cell_type": "code",
      "execution_count": null,
      "metadata": {
        "id": "OtLyL-ENDZ2I",
        "pycharm": {
          "name": "#%%\n"
        }
      },
      "outputs": [],
      "source": [
        "import lief\n",
        "\n",
        "exe_path = 'exe/calc.exe'\n",
        "exe_object: lief.PE = lief.parse(exe_path)"
      ]
    },
    {
      "cell_type": "markdown",
      "metadata": {
        "collapsed": false,
        "id": "NNRGHUtcDZ2J",
        "pycharm": {
          "name": "#%% md\n"
        }
      },
      "source": [
        "Now, the `exe_object` contains all the information of the loaded program.\n",
        "We can look for all the components. For instance, here is how you can read the header metadata:"
      ]
    },
    {
      "cell_type": "code",
      "execution_count": null,
      "metadata": {
        "id": "I9MRMSmeDZ2J",
        "pycharm": {
          "name": "#%%\n"
        }
      },
      "outputs": [],
      "source": [
        "print('DOS Header')\n",
        "print(exe_object.dos_header)\n",
        "\n",
        "print('PE Header')\n",
        "print(exe_object.header)\n",
        "\n",
        "print('Optional Header')\n",
        "print(exe_object.optional_header)\n",
        "\n",
        "print('Sections')\n",
        "for s in exe_object.sections:\n",
        "    print(s.name, s.characteristics_lists)"
      ]
    },
    {
      "cell_type": "markdown",
      "metadata": {
        "collapsed": false,
        "id": "MXIv2agYDZ2J",
        "pycharm": {
          "name": "#%% md\n"
        }
      },
      "source": [
        "This library is also very useful for manipulating the EXEs.\n",
        "For instance, in few lines of code you can add sections to a program."
      ]
    },
    {
      "cell_type": "code",
      "execution_count": null,
      "metadata": {
        "id": "3dBODCO-DZ2J",
        "pycharm": {
          "name": "#%%\n"
        }
      },
      "outputs": [],
      "source": [
        "# Name your new section. Size constraint: up to 8 bytes at maximum!\n",
        "new_section : lief.PE.Section = lief.PE.Section()\n",
        "new_section.name = '.newsec'\n",
        "new_section.content = [ord(i) for i in \"This is my newly created section\"]\n",
        "new_section.characteristics = lief.PE.SECTION_CHARACTERISTICS.MEM_DISCARDABLE\n",
        "exe_object.add_section(new_section)\n",
        "\n",
        "# New section in place! Now we use lief to rebuild the binary.\n",
        "builder = lief.PE.Builder(exe_object)\n",
        "builder.build()\n",
        "exe_object = lief.PE.parse(builder.get_build())\n",
        "print('Sections')\n",
        "for s in exe_object.sections:\n",
        "    print(s.name, s.characteristics_lists)\n",
        "builder.write('new_exe.file')"
      ]
    },
    {
      "cell_type": "markdown",
      "metadata": {
        "collapsed": false,
        "id": "Vhi12b09DZ2K",
        "pycharm": {
          "name": "#%% md\n"
        }
      },
      "source": [
        "As you can see, the new section appeared as last one.\n",
        "More information on how to use lief on the [documentation of the library](https://lief-project.github.io/doc/stable/index.html)."
      ]
    },
    {
      "cell_type": "markdown",
      "metadata": {
        "collapsed": false,
        "id": "pCC0dXLnDZ2K",
        "pycharm": {
          "name": "#%% md\n"
        }
      },
      "source": [
        "# Evasion of End-to-end Deep Neural Network for Malware Detection\n",
        "\n",
        "In this tutorial, you will learn how to use this plugin to test the already implemented attacks against a PyTorch network of your choice.\n",
        "We first instantiate a deep neural network trained on raw bytes, called MalConv, and we pass it to SecML Malware."
      ]
    },
    {
      "cell_type": "code",
      "execution_count": null,
      "metadata": {
        "id": "tj_WInkYDZ2K",
        "pycharm": {
          "name": "#%%\n"
        }
      },
      "outputs": [],
      "source": [
        "import os\n",
        "import magic\n",
        "from secml.array import CArray\n",
        "\n",
        "from secml_malware.models.malconv import MalConv\n",
        "from secml_malware.models.c_classifier_end2end_malware import CClassifierEnd2EndMalware, End2EndModel\n",
        "\n",
        "net = MalConv()\n",
        "net = CClassifierEnd2EndMalware(net)\n",
        "net.load_pretrained_model()\n",
        "\n",
        "print(net)"
      ]
    },
    {
      "cell_type": "markdown",
      "metadata": {
        "collapsed": false,
        "id": "U2VTwMDGDZ2K",
        "pycharm": {
          "name": "#%% md\n"
        }
      },
      "source": [
        "Firstly, we have created the network (MalConv) and it has been passed wrapped with a *CClassifierEnd2EndMalware* model class.\n",
        "This object generalizes PyTorch end-to-end ML models.\n",
        "Since MalConv is already coded inside the plugin, the weights are also stored, and they can be retrieved with the *load_pretrained_model* method.\n",
        "\n",
        "If you wish to use diffierent weights, pass the path to the PyTorch *pth* file to that method."
      ]
    },
    {
      "cell_type": "code",
      "execution_count": null,
      "metadata": {
        "id": "DDttO5fcDZ2K",
        "pycharm": {
          "name": "#%%\n"
        }
      },
      "outputs": [],
      "source": [
        "from secml_malware.attack.whitebox.c_header_evasion import CHeaderEvasion\n",
        "\n",
        "partial_dos = CHeaderEvasion(net, random_init=False, iterations=10, optimize_all_dos=False, threshold=0)"
      ]
    },
    {
      "cell_type": "markdown",
      "metadata": {
        "collapsed": false,
        "id": "WTgADUbqDZ2K",
        "pycharm": {
          "name": "#%% md\n"
        }
      },
      "source": [
        "This is how an attack is created, no further action is needed.\n",
        "The `random_init` parameter specifies if the bytes should be assigned with random values before beginning the optimization process, `iterations` sets the number of steps of the attack, `optimize_all_dos` sets if all the DOS header should be perturbed, or just the first 58 bytes, while `threshold` is the detection threshold used as a stopping condition.\n",
        "\n",
        "If you want to see how much the network is deteriorated by the attack, set this parameter to 0, or it will stop as soon as the confidence decreases below such value."
      ]
    },
    {
      "cell_type": "code",
      "execution_count": null,
      "metadata": {
        "id": "gN721098DZ2L",
        "pycharm": {
          "name": "#%%\n"
        }
      },
      "outputs": [],
      "source": [
        "folder = \"exe\"\n",
        "X = []\n",
        "y = []\n",
        "file_names = []\n",
        "for i, f in enumerate(os.listdir(folder)):\n",
        "    path = os.path.join(folder, f)\n",
        "    if not os.path.isfile(path):\n",
        "        continue\n",
        "    if \"PE32\" not in magic.from_file(path):\n",
        "        continue\n",
        "    with open(path, \"rb\") as file_handle:\n",
        "        code = file_handle.read()\n",
        "    x = End2EndModel.bytes_to_numpy(\n",
        "        code, net.get_input_max_length(), 256, False\n",
        "    )\n",
        "    _, confidence = net.predict(CArray(x), True)\n",
        "\n",
        "    if confidence[0, 1].item() < 0.5:\n",
        "        continue\n",
        "\n",
        "    print(f\"> Added {f} with confidence {confidence[0,1].item()}\")\n",
        "    X.append(x)\n",
        "    conf = confidence[1][0].item()\n",
        "    y.append([1 - conf, conf])\n",
        "    file_names.append(path)"
      ]
    },
    {
      "cell_type": "markdown",
      "metadata": {
        "collapsed": false,
        "id": "hM5xXMM_DZ2L",
        "pycharm": {
          "name": "#%% md\n"
        }
      },
      "source": [
        "We load a simple dataset from the provided `exe` that you have filled with malware to test the attacks.\n",
        "Since we are dealing with SecML, we need to load all the programs inside as CArrays.\n",
        "Once we have built the dataset, we can run the instantiated attack."
      ]
    },
    {
      "cell_type": "code",
      "execution_count": null,
      "metadata": {
        "id": "qn_FFSaiDZ2L",
        "pycharm": {
          "name": "#%%\n"
        }
      },
      "outputs": [],
      "source": [
        "for sample, label in zip(X, y):\n",
        "    y_pred, adv_score, adv_ds, f_obj = partial_dos.run(CArray(sample), CArray(label[1]))\n",
        "    print(partial_dos.confidences_)"
      ]
    },
    {
      "cell_type": "markdown",
      "metadata": {
        "collapsed": false,
        "id": "4ly9_8lVDZ2L",
        "pycharm": {
          "name": "#%% md\n"
        }
      },
      "source": [
        "Inside the `adv_ds` object, you can find the adversarial example computed by the attack.\n",
        "You can reconstruct the functioning example by using a specific function inside the plugin."
      ]
    },
    {
      "cell_type": "code",
      "execution_count": null,
      "metadata": {
        "id": "CapHT9ZTDZ2L",
        "pycharm": {
          "name": "#%%\n"
        }
      },
      "outputs": [],
      "source": [
        "adv_x = adv_ds.X[0,:]\n",
        "real_adv_x = partial_dos.create_real_sample_from_adv(file_names[0], adv_x)\n",
        "print(len(real_adv_x))\n",
        "real_x = End2EndModel.bytes_to_numpy(real_adv_x, net.get_input_max_length(), 256, False)\n",
        "_, confidence = net.predict(CArray(real_x), True)\n",
        "print(confidence[0,1].item())"
      ]
    },
    {
      "cell_type": "markdown",
      "metadata": {
        "collapsed": false,
        "id": "RQfzKYSpDZ2M",
        "pycharm": {
          "name": "#%% md\n"
        }
      },
      "source": [
        "... and you're done!\n",
        "If you want to create a real sample (stored on disk), just have a look at the `create_real_sample_from_adv` of each attack. It accepts a third string argument that will be used as a destination file path for storing the adversarial example."
      ]
    },
    {
      "cell_type": "markdown",
      "metadata": {
        "collapsed": false,
        "id": "5JMgLXOMDZ2M",
        "pycharm": {
          "name": "#%% md\n"
        }
      },
      "source": [
        "We used one attack, which is the Partial DOS one. But what if we want to use others?\n",
        "SecML malware is shipped with different attacking strategies, that can be easily created similarly to the DOS Header attack. A complete list of them can be found in the [source code](https://github.com/pralab/secml_malware/tree/master/secml_malware/attack/whitebox) or the [documentation](https://secml-malware.readthedocs.io/en/docs/source/secml_malware.attack.whitebox.html) of the other white box attacks.\n",
        "To give you a practical example, we now use an attack that append bytes at the end of the file (padding) and replace unusued space between sections (slack), and it leverages an iterative version of [FGSM attack](https://arxiv.org/abs/1802.04528) to optimize the byte values of executables."
      ]
    },
    {
      "cell_type": "code",
      "execution_count": null,
      "metadata": {
        "id": "3NHcfffJDZ2M",
        "pycharm": {
          "name": "#%%\n"
        }
      },
      "outputs": [],
      "source": [
        "from secml_malware.attack.whitebox import CKreukEvasion\n",
        "\n",
        "ifgsm = CKreukEvasion(net, how_many_padding_bytes=58, epsilon=1.0, iterations=10, threshold=0)\n",
        "for i, (sample, label) in enumerate(zip(X, y)):\n",
        "    y_pred, adv_score, adv_ds, f_obj = ifgsm.run(CArray(sample), CArray(label[1]))\n",
        "    print(ifgsm.confidences_)\n",
        "    real_adv_x = ifgsm.create_real_sample_from_adv(file_names[i], adv_ds.X[i, :])\n",
        "    with open(file_names[i], 'rb') as f:\n",
        "        print('Original length: ', len(f.read()))\n",
        "    print('Adversarial sample length: ', len(real_adv_x))\n"
      ]
    },
    {
      "cell_type": "code",
      "execution_count": null,
      "metadata": {
        "id": "viDU9gmjDZ2M",
        "pycharm": {
          "name": "#%%\n"
        }
      },
      "outputs": [],
      "source": [
        "from secml.figure import CFigure\n",
        "\n",
        "fig = CFigure()\n",
        "fig.sp.plot(partial_dos.confidences_, label='dos')\n",
        "fig.sp.plot(ifgsm.confidences_, label='kreuk')\n",
        "fig.sp.plot([0, 10], [0.5, 0.5], label='threshold', linestyle='--', c='r')\n",
        "fig.sp.xlabel('Iterations')\n",
        "fig.sp.ylabel('Malware class confidence')\n",
        "fig.sp.legend()\n",
        "fig.show()"
      ]
    },
    {
      "cell_type": "markdown",
      "metadata": {
        "collapsed": false,
        "id": "QpRneM3NDZ2M",
        "pycharm": {
          "name": "#%% md\n"
        }
      },
      "source": [
        "As you notice, the attacks behave differently. Can you guess why?"
      ]
    },
    {
      "cell_type": "markdown",
      "metadata": {
        "collapsed": false,
        "id": "qkb39QjQDZ2N",
        "pycharm": {
          "name": "#%% md\n"
        }
      },
      "source": [
        "# Gradient-free evasion of Windows Malware Detectors\n",
        "\n",
        "We move to gradient-free approaches, and we will leverage optimisation of adversarial content injected through new sections inside the input executable."
      ]
    },
    {
      "cell_type": "code",
      "execution_count": null,
      "metadata": {
        "id": "hHhVqqGsDZ2N",
        "pycharm": {
          "name": "#%%\n"
        }
      },
      "outputs": [],
      "source": [
        "import os\n",
        "\n",
        "import magic\n",
        "import numpy as np\n",
        "from secml.array import CArray\n",
        "\n",
        "from secml_malware.attack.blackbox.c_wrapper_phi import CEnd2EndWrapperPhi\n",
        "from secml_malware.attack.blackbox.ga.c_base_genetic_engine import CGeneticAlgorithm\n",
        "from secml_malware.models.c_classifier_end2end_malware import CClassifierEnd2EndMalware\n",
        "from secml_malware.models.malconv import MalConv\n",
        "\n",
        "net = CClassifierEnd2EndMalware(MalConv())\n",
        "net.load_pretrained_model()\n",
        "net = CEnd2EndWrapperPhi(net)"
      ]
    },
    {
      "cell_type": "markdown",
      "metadata": {
        "collapsed": false,
        "id": "KRUWRtlCDZ2N",
        "pycharm": {
          "name": "#%% md\n"
        }
      },
      "source": [
        "Firstly, we have created the network (MalConv) and it has been passed wrapped with a *CClassifierEnd2EndMalware* model class.\n",
        "Since MalConv is already coded inside the plugin, the weights are also stored, and they can be retrieved with the *load_pretrained_model* method.\n",
        "\n",
        "If you wish to use diffierent weights, pass the path to the PyTorch *pth* file to that method.\n",
        "\n",
        "Then, we wrap it inside a `CEnd2EndWrapperPhi`, that is an interface that abstracts from the feature extraction phase of the model.\n",
        "This is needed for the black-box settings of the attack.\n",
        "\n",
        "We will start by optimizing byte-per-byte through the injection of padding bytes."
      ]
    },
    {
      "cell_type": "code",
      "execution_count": null,
      "metadata": {
        "id": "yaAthP4bDZ2N",
        "pycharm": {
          "name": "#%%\n"
        }
      },
      "outputs": [],
      "source": [
        "import numpy as np\n",
        "\n",
        "folder = 'exe'\n",
        "X_gf = []\n",
        "y_gf = []\n",
        "file_names_gf = []\n",
        "for i, f in enumerate(os.listdir(folder)):\n",
        "    path = os.path.join(folder, f)\n",
        "    if not os.path.isfile(path):\n",
        "        continue\n",
        "    if \"PE32\" not in magic.from_file(path):\n",
        "        continue\n",
        "    with open(path, \"rb\") as file_handle:\n",
        "        code = file_handle.read()\n",
        "    x = CArray(np.frombuffer(code, dtype=np.uint8))\n",
        "    _, confidence = net.predict(x, True)\n",
        "\n",
        "    if confidence[0, 1].item() < 0.5:\n",
        "        continue\n",
        "\n",
        "    print(f\"> Added {f} with confidence {confidence[0,1].item()}\")\n",
        "    X_gf.append(x)\n",
        "    y_gf.append(1)\n",
        "    file_names_gf.append(path)"
      ]
    },
    {
      "cell_type": "code",
      "execution_count": null,
      "metadata": {
        "id": "eOOhkjn7DZ2O",
        "pycharm": {
          "name": "#%%\n"
        }
      },
      "outputs": [],
      "source": [
        "from secml_malware.attack.blackbox.c_black_box_padding_evasion import CBlackBoxPaddingEvasionProblem\n",
        "from secml_malware.attack.blackbox.ga.c_base_genetic_engine import CGeneticAlgorithm\n",
        "attack_padding = CBlackBoxPaddingEvasionProblem(net, population_size=10, penalty_regularizer=1e-6, iterations=500, how_many_padding_bytes=4096)\n",
        "engine = CGeneticAlgorithm(attack_padding)\n",
        "for sample, label in zip(X_gf, y_gf):\n",
        "    y_pred, adv_score, adv_ds, f_obj = engine.run(sample, label)\n",
        "    print(engine.confidences_)"
      ]
    },
    {
      "cell_type": "markdown",
      "metadata": {
        "collapsed": false,
        "id": "qypg6JH8DZ2O",
        "pycharm": {
          "name": "#%% md\n"
        }
      },
      "source": [
        "Under the hood, the attack is optimizing each the 4096 bytes, one by one. To speed up the process, we can inject chunks of goodware content, and let the optimizer decide how much to extract."
      ]
    },
    {
      "cell_type": "code",
      "execution_count": null,
      "metadata": {
        "id": "-l9RYlcfDZ2O",
        "pycharm": {
          "name": "#%%\n"
        }
      },
      "outputs": [],
      "source": [
        "from secml_malware.attack.blackbox.c_gamma_sections_evasion import CGammaSectionsEvasionProblem\n",
        "goodware_folder = 'exe/goodware'\n",
        "section_population, what_from_who = CGammaSectionsEvasionProblem.create_section_population_from_folder(goodware_folder, how_many=10, sections_to_extract=['.rdata'])\n",
        "\n",
        "gamma_attack = CGammaSectionsEvasionProblem(section_population, net, population_size=10, penalty_regularizer=1e-6, iterations=100, threshold=0)"
      ]
    },
    {
      "cell_type": "markdown",
      "metadata": {
        "collapsed": false,
        "id": "Y8mhi3V0DZ2O",
        "pycharm": {
          "name": "#%% md\n"
        }
      },
      "source": [
        "For the section injection attack implemented with GAMMA, we need first to extract the goodware sections.\n",
        "Then, we create a `CGammaSectionsEvasionProblem` object, that contains the attack."
      ]
    },
    {
      "cell_type": "code",
      "execution_count": null,
      "metadata": {
        "id": "c6hYCMiVDZ2O",
        "pycharm": {
          "name": "#%%\n"
        }
      },
      "outputs": [],
      "source": [
        "engine_gamma = CGeneticAlgorithm(gamma_attack)\n",
        "for sample, label in zip(X, y):\n",
        "    y_pred, adv_score, adv_ds, f_obj = engine_gamma.run(sample, CArray(label[1]))"
      ]
    },
    {
      "cell_type": "markdown",
      "metadata": {
        "collapsed": false,
        "id": "4yIm6Q4VDZ2O",
        "pycharm": {
          "name": "#%% md\n"
        }
      },
      "source": [
        "Inside the `adv_ds` object, you can find the adversarial example computed by the attack.\n",
        "You can reconstruct the functioning example by using a specific function inside the plugin:"
      ]
    },
    {
      "cell_type": "code",
      "execution_count": null,
      "metadata": {
        "id": "2NOdA-YHDZ2O",
        "pycharm": {
          "name": "#%%\n"
        }
      },
      "outputs": [],
      "source": [
        "adv_x = adv_ds.X[0,:]\n",
        "engine_gamma.write_adv_to_file(adv_x,'adv_exe')\n",
        "with open('adv_exe', 'rb') as h:\n",
        "    code = h.read()\n",
        "real_adv_x = CArray(np.frombuffer(code, dtype=np.uint8))\n",
        "_, confidence = net.predict(CArray(real_adv_x), True)\n",
        "print(confidence[0,1].item())"
      ]
    },
    {
      "cell_type": "markdown",
      "metadata": {
        "collapsed": false,
        "id": "QWgy62NLDZ2P",
        "pycharm": {
          "name": "#%% md\n"
        }
      },
      "source": [
        "... and you're done!\n",
        "If you want to create a real sample (stored on disk), just have a look at the `create_real_sample_from_adv` of each attack. It accepts a third string argument that will be used as a destination file path for storing the adversarial example."
      ]
    }
  ],
  "metadata": {
    "colab": {
      "provenance": []
    },
    "kernelspec": {
      "display_name": "Python 3",
      "language": "python",
      "name": "python3"
    },
    "language_info": {
      "codemirror_mode": {
        "name": "ipython",
        "version": 3
      },
      "file_extension": ".py",
      "mimetype": "text/x-python",
      "name": "python",
      "nbconvert_exporter": "python",
      "pygments_lexer": "ipython3",
      "version": "3.8.18"
    }
  },
  "nbformat": 4,
  "nbformat_minor": 0
}
